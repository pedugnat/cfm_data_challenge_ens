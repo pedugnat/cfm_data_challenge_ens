{
 "cells": [
  {
   "cell_type": "code",
   "execution_count": 1,
   "metadata": {
    "_cell_guid": "b1076dfc-b9ad-4769-8c92-a6c4dae69d19",
    "_uuid": "8f2839f25d086af736a60e9eeb907d3b93b6e0e5"
   },
   "outputs": [
    {
     "name": "stdout",
     "output_type": "stream",
     "text": [
      "Kernel lancé le : 20 Jan, 19 h 10\n"
     ]
    }
   ],
   "source": [
    "import os, gc\n",
    "import pickle\n",
    "\n",
    "import pandas as pd\n",
    "import numpy as np\n",
    "import seaborn as sns\n",
    "import matplotlib.pyplot as plt\n",
    "\n",
    "from datetime import datetime\n",
    "\n",
    "TARGET = \"source_id\"\n",
    "BASE_MODELS_PATH = \"./input/training-cfm\"\n",
    "BASE_DATA_PATH = \"./input/make-features-cfm\"\n",
    "\n",
    "print(f\"Kernel lancé le : {datetime.now().strftime('%d %b, %H h %M')}\")"
   ]
  },
  {
   "cell_type": "code",
   "execution_count": 2,
   "metadata": {},
   "outputs": [],
   "source": [
    "# Read test_data with features\n",
    "test_data = pd.read_csv(os.path.join(BASE_DATA_PATH, \"test_data.csv\")).set_index(\"ID\")\n",
    "\n",
    "# Read the features used\n",
    "with open (os.path.join(BASE_MODELS_PATH, \"features_list.pkl\"), 'rb') as fp:\n",
    "    FEATURES_LIST = pickle.load(fp)"
   ]
  },
  {
   "cell_type": "code",
   "execution_count": 3,
   "metadata": {},
   "outputs": [
    {
     "name": "stdout",
     "output_type": "stream",
     "text": [
      "[19:12:06] WARNING: ../src/gbm/gbtree.cc:343: Loading from a raw memory buffer on CPU only machine.  Changing tree_method to hist.\n",
      "[19:12:06] WARNING: ../src/learner.cc:207: No visible GPU is found, setting `gpu_id` to -1\n",
      "[19:12:07] WARNING: ../src/gbm/gbtree.cc:343: Loading from a raw memory buffer on CPU only machine.  Changing tree_method to hist.\n",
      "[19:12:07] WARNING: ../src/learner.cc:207: No visible GPU is found, setting `gpu_id` to -1\n",
      "[19:12:08] WARNING: ../src/gbm/gbtree.cc:343: Loading from a raw memory buffer on CPU only machine.  Changing tree_method to hist.\n",
      "[19:12:08] WARNING: ../src/learner.cc:207: No visible GPU is found, setting `gpu_id` to -1\n",
      "[19:12:08] WARNING: ../src/gbm/gbtree.cc:343: Loading from a raw memory buffer on CPU only machine.  Changing tree_method to hist.\n",
      "[19:12:08] WARNING: ../src/learner.cc:207: No visible GPU is found, setting `gpu_id` to -1\n",
      "[19:12:09] WARNING: ../src/gbm/gbtree.cc:343: Loading from a raw memory buffer on CPU only machine.  Changing tree_method to hist.\n",
      "[19:12:09] WARNING: ../src/learner.cc:207: No visible GPU is found, setting `gpu_id` to -1\n"
     ]
    }
   ],
   "source": [
    "# Load models\n",
    "models = dict()\n",
    "xgb_models_paths = [p for p in os.listdir(BASE_MODELS_PATH) if \"xgb_model_\" in p]\n",
    "\n",
    "for k, model_path in enumerate(sorted(xgb_models_paths)):\n",
    "    if \"xgb_model_\" in model_path:\n",
    "        xgb_model_loaded = pickle.load(open(os.path.join(BASE_MODELS_PATH, model_path), \"rb\"))\n",
    "        models[f\"fold_{k}\"] = xgb_model_loaded"
   ]
  },
  {
   "cell_type": "code",
   "execution_count": 4,
   "metadata": {},
   "outputs": [],
   "source": [
    "def add_freq_encoding(fold_number: int, test_df: pd.DataFrame) -> pd.DataFrame:\n",
    "    FE_data = pd.read_csv(os.path.join(BASE_MODELS_PATH, f\"FE_fold{fold_number}.csv\"))\n",
    "    FE_data.index = test_df.index\n",
    "    test_df = pd.concat([test_df, FE_data], axis=1)\n",
    "    \n",
    "    del FE_data; gc.collect()\n",
    "    \n",
    "    return test_df"
   ]
  },
  {
   "cell_type": "code",
   "execution_count": 5,
   "metadata": {},
   "outputs": [
    {
     "name": "stdout",
     "output_type": "stream",
     "text": [
      "Predicting...\n",
      "\n",
      "\t – Fold n°1, model = fold_0\n",
      "\t – Fold n°2, model = fold_1\n",
      "\t – Fold n°3, model = fold_2\n",
      "\t – Fold n°4, model = fold_3\n",
      "\t – Fold n°5, model = fold_4\n"
     ]
    }
   ],
   "source": [
    "print(\"Predicting...\\n\")\n",
    "\n",
    "variables_to_encode = [\"stock_id\", \"trade_quarter\"]\n",
    "\n",
    "predictions = list()\n",
    "\n",
    "for k, model_key in enumerate(models.keys()):\n",
    "    print(f\"\\t – Fold n°{k + 1}, model = {model_key}\")\n",
    "    \n",
    "    test_data = add_freq_encoding(k, test_data)\n",
    "\n",
    "    y_pred = models[model_key].predict_proba(test_data[FEATURES_LIST])\n",
    "    predictions.append(y_pred)\n",
    "    \n",
    "    test_data = test_data.drop([c for c in test_data.columns if \"FE_\" in c], axis=1)"
   ]
  },
  {
   "cell_type": "code",
   "execution_count": 6,
   "metadata": {
    "_cell_guid": "79c7e3d0-c299-4dcb-8224-4455121ee9b0",
    "_uuid": "d629ff2d2480ee46fbb7e2d37f6b5fab8052498a"
   },
   "outputs": [
    {
     "name": "stdout",
     "output_type": "stream",
     "text": [
      "Processing predictions\n",
      "Test prediction saved!\n"
     ]
    }
   ],
   "source": [
    "print(\"Processing predictions\")\n",
    "\n",
    "prediction_mode = \"proba\" # \"proba / mode\"\n",
    "\n",
    "proba_pred = np.array(predictions)\n",
    "\n",
    "if prediction_mode == \"mode\":\n",
    "    proba_mode = proba_pred.argmax(axis=2)\n",
    "    mode_array = mode(np.array(proba_mode))   # ensembling : take the most common predicted class\n",
    "    mode_pred = mode_array.mode[0]\n",
    "    preds_csv = pd.Series(mode_pred).to_frame()\n",
    "\n",
    "elif prediction_mode == \"proba\":\n",
    "    proba_pred_reduced = proba_pred.mean(axis=0)    # sum over the folds\n",
    "    preds_csv = pd.Series(proba_pred_reduced.argmax(axis=1)).to_frame()   # argmax over the venues to select the most probable one\n",
    "    pred_proba_df = pd.DataFrame(proba_pred_reduced, columns=[f\"venue_{i}\" for i in range(6)])\n",
    "\n",
    "else:\n",
    "    raise ValueError\n",
    "    \n",
    "k_random_sub_id = np.random.randint(0, 1000)\n",
    "\n",
    "preds_csv[\"ID\"] = test_data.index\n",
    "preds_csv.columns = [\"source_id\", \"ID\"]\n",
    "preds_csv = preds_csv[preds_csv.columns[::-1]]\n",
    "preds_csv.to_csv(f\"pred_test_{prediction_mode}_{k_random_sub_id}.csv\", index=False)\n",
    "\n",
    "pred_proba_df[\"ID\"] = test_data.index\n",
    "pred_proba_df = pred_proba_df[[pred_proba_df.columns[-1]] + list(pred_proba_df.columns[:-1])]\n",
    "pred_proba_df.to_csv(f\"6venues_pred_test_{prediction_mode}_{k_random_sub_id}.csv\", index=False)\n",
    "\n",
    "print(\"Test prediction saved!\")"
   ]
  },
  {
   "cell_type": "code",
   "execution_count": 7,
   "metadata": {},
   "outputs": [
    {
     "data": {
      "text/html": [
       "<div>\n",
       "<style scoped>\n",
       "    .dataframe tbody tr th:only-of-type {\n",
       "        vertical-align: middle;\n",
       "    }\n",
       "\n",
       "    .dataframe tbody tr th {\n",
       "        vertical-align: top;\n",
       "    }\n",
       "\n",
       "    .dataframe thead th {\n",
       "        text-align: right;\n",
       "    }\n",
       "</style>\n",
       "<table border=\"1\" class=\"dataframe\">\n",
       "  <thead>\n",
       "    <tr style=\"text-align: right;\">\n",
       "      <th></th>\n",
       "      <th>ID</th>\n",
       "      <th>venue_0</th>\n",
       "      <th>venue_1</th>\n",
       "      <th>venue_2</th>\n",
       "      <th>venue_3</th>\n",
       "      <th>venue_4</th>\n",
       "      <th>venue_5</th>\n",
       "    </tr>\n",
       "  </thead>\n",
       "  <tbody>\n",
       "    <tr>\n",
       "      <th>0</th>\n",
       "      <td>959506</td>\n",
       "      <td>0.030880</td>\n",
       "      <td>0.193981</td>\n",
       "      <td>0.083651</td>\n",
       "      <td>0.150268</td>\n",
       "      <td>0.361639</td>\n",
       "      <td>0.179581</td>\n",
       "    </tr>\n",
       "    <tr>\n",
       "      <th>1</th>\n",
       "      <td>1044642</td>\n",
       "      <td>0.032851</td>\n",
       "      <td>0.212270</td>\n",
       "      <td>0.112116</td>\n",
       "      <td>0.113624</td>\n",
       "      <td>0.237769</td>\n",
       "      <td>0.291371</td>\n",
       "    </tr>\n",
       "    <tr>\n",
       "      <th>2</th>\n",
       "      <td>1050806</td>\n",
       "      <td>0.044001</td>\n",
       "      <td>0.075749</td>\n",
       "      <td>0.280369</td>\n",
       "      <td>0.413200</td>\n",
       "      <td>0.134935</td>\n",
       "      <td>0.051746</td>\n",
       "    </tr>\n",
       "    <tr>\n",
       "      <th>3</th>\n",
       "      <td>1325166</td>\n",
       "      <td>0.076198</td>\n",
       "      <td>0.075818</td>\n",
       "      <td>0.188369</td>\n",
       "      <td>0.402300</td>\n",
       "      <td>0.219623</td>\n",
       "      <td>0.037692</td>\n",
       "    </tr>\n",
       "    <tr>\n",
       "      <th>4</th>\n",
       "      <td>1384745</td>\n",
       "      <td>0.034933</td>\n",
       "      <td>0.149966</td>\n",
       "      <td>0.109717</td>\n",
       "      <td>0.414812</td>\n",
       "      <td>0.180216</td>\n",
       "      <td>0.110355</td>\n",
       "    </tr>\n",
       "  </tbody>\n",
       "</table>\n",
       "</div>"
      ],
      "text/plain": [
       "        ID   venue_0   venue_1   venue_2   venue_3   venue_4   venue_5\n",
       "0   959506  0.030880  0.193981  0.083651  0.150268  0.361639  0.179581\n",
       "1  1044642  0.032851  0.212270  0.112116  0.113624  0.237769  0.291371\n",
       "2  1050806  0.044001  0.075749  0.280369  0.413200  0.134935  0.051746\n",
       "3  1325166  0.076198  0.075818  0.188369  0.402300  0.219623  0.037692\n",
       "4  1384745  0.034933  0.149966  0.109717  0.414812  0.180216  0.110355"
      ]
     },
     "execution_count": 7,
     "metadata": {},
     "output_type": "execute_result"
    }
   ],
   "source": [
    "pred_proba_df.head()"
   ]
  },
  {
   "cell_type": "code",
   "execution_count": 9,
   "metadata": {},
   "outputs": [
    {
     "data": {
      "text/html": [
       "<style  type=\"text/css\" >\n",
       "#T_2a1b7d22_5b55_11eb_8e71_0242ac130202row0_col0{\n",
       "            background-color:  #e4fee4;\n",
       "            color:  #000000;\n",
       "        }#T_2a1b7d22_5b55_11eb_8e71_0242ac130202row0_col1,#T_2a1b7d22_5b55_11eb_8e71_0242ac130202row5_col0{\n",
       "            background-color:  #e5ffe5;\n",
       "            color:  #000000;\n",
       "        }#T_2a1b7d22_5b55_11eb_8e71_0242ac130202row1_col0{\n",
       "            background-color:  #d3f5d3;\n",
       "            color:  #000000;\n",
       "        }#T_2a1b7d22_5b55_11eb_8e71_0242ac130202row1_col1{\n",
       "            background-color:  #87cb87;\n",
       "            color:  #000000;\n",
       "        }#T_2a1b7d22_5b55_11eb_8e71_0242ac130202row2_col0{\n",
       "            background-color:  #319b31;\n",
       "            color:  #000000;\n",
       "        }#T_2a1b7d22_5b55_11eb_8e71_0242ac130202row2_col1{\n",
       "            background-color:  #369e36;\n",
       "            color:  #000000;\n",
       "        }#T_2a1b7d22_5b55_11eb_8e71_0242ac130202row3_col0{\n",
       "            background-color:  #bce8bc;\n",
       "            color:  #000000;\n",
       "        }#T_2a1b7d22_5b55_11eb_8e71_0242ac130202row3_col1{\n",
       "            background-color:  #a1d9a1;\n",
       "            color:  #000000;\n",
       "        }#T_2a1b7d22_5b55_11eb_8e71_0242ac130202row4_col0,#T_2a1b7d22_5b55_11eb_8e71_0242ac130202row4_col1{\n",
       "            background-color:  #008000;\n",
       "            color:  #f1f1f1;\n",
       "        }#T_2a1b7d22_5b55_11eb_8e71_0242ac130202row5_col1{\n",
       "            background-color:  #c6eec6;\n",
       "            color:  #000000;\n",
       "        }</style><table id=\"T_2a1b7d22_5b55_11eb_8e71_0242ac130202\" ><thead>    <tr>        <th class=\"blank level0\" ></th>        <th class=\"col_heading level0 col0\" >predicted_distribution</th>        <th class=\"col_heading level0 col1\" >train_set_distribution</th>    </tr></thead><tbody>\n",
       "                <tr>\n",
       "                        <th id=\"T_2a1b7d22_5b55_11eb_8e71_0242ac130202level0_row0\" class=\"row_heading level0 row0\" >0</th>\n",
       "                        <td id=\"T_2a1b7d22_5b55_11eb_8e71_0242ac130202row0_col0\" class=\"data row0 col0\" >3.0%</td>\n",
       "                        <td id=\"T_2a1b7d22_5b55_11eb_8e71_0242ac130202row0_col1\" class=\"data row0 col1\" >3.4%</td>\n",
       "            </tr>\n",
       "            <tr>\n",
       "                        <th id=\"T_2a1b7d22_5b55_11eb_8e71_0242ac130202level0_row1\" class=\"row_heading level0 row1\" >1</th>\n",
       "                        <td id=\"T_2a1b7d22_5b55_11eb_8e71_0242ac130202row1_col0\" class=\"data row1 col0\" >5.9%</td>\n",
       "                        <td id=\"T_2a1b7d22_5b55_11eb_8e71_0242ac130202row1_col1\" class=\"data row1 col1\" >15.8%</td>\n",
       "            </tr>\n",
       "            <tr>\n",
       "                        <th id=\"T_2a1b7d22_5b55_11eb_8e71_0242ac130202level0_row2\" class=\"row_heading level0 row2\" >2</th>\n",
       "                        <td id=\"T_2a1b7d22_5b55_11eb_8e71_0242ac130202row2_col0\" class=\"data row2 col0\" >34.8%</td>\n",
       "                        <td id=\"T_2a1b7d22_5b55_11eb_8e71_0242ac130202row2_col1\" class=\"data row2 col1\" >26.5%</td>\n",
       "            </tr>\n",
       "            <tr>\n",
       "                        <th id=\"T_2a1b7d22_5b55_11eb_8e71_0242ac130202level0_row3\" class=\"row_heading level0 row3\" >3</th>\n",
       "                        <td id=\"T_2a1b7d22_5b55_11eb_8e71_0242ac130202row3_col0\" class=\"data row3 col0\" >10.1%</td>\n",
       "                        <td id=\"T_2a1b7d22_5b55_11eb_8e71_0242ac130202row3_col1\" class=\"data row3 col1\" >12.4%</td>\n",
       "            </tr>\n",
       "            <tr>\n",
       "                        <th id=\"T_2a1b7d22_5b55_11eb_8e71_0242ac130202level0_row4\" class=\"row_heading level0 row4\" >4</th>\n",
       "                        <td id=\"T_2a1b7d22_5b55_11eb_8e71_0242ac130202row4_col0\" class=\"data row4 col0\" >43.7%</td>\n",
       "                        <td id=\"T_2a1b7d22_5b55_11eb_8e71_0242ac130202row4_col1\" class=\"data row4 col1\" >33.6%</td>\n",
       "            </tr>\n",
       "            <tr>\n",
       "                        <th id=\"T_2a1b7d22_5b55_11eb_8e71_0242ac130202level0_row5\" class=\"row_heading level0 row5\" >5</th>\n",
       "                        <td id=\"T_2a1b7d22_5b55_11eb_8e71_0242ac130202row5_col0\" class=\"data row5 col0\" >2.6%</td>\n",
       "                        <td id=\"T_2a1b7d22_5b55_11eb_8e71_0242ac130202row5_col1\" class=\"data row5 col1\" >7.5%</td>\n",
       "            </tr>\n",
       "    </tbody></table>"
      ],
      "text/plain": [
       "<pandas.io.formats.style.Styler at 0x7fd03c09f550>"
      ]
     },
     "execution_count": 9,
     "metadata": {},
     "output_type": "execute_result"
    }
   ],
   "source": [
    "# check for target distribution\n",
    "\n",
    "train_data = pd.read_csv(os.path.join(BASE_DATA_PATH, \"train_data.csv\"))\n",
    "cm = sns.light_palette(\"green\", as_cmap=True)\n",
    "\n",
    "num_sample = preds_csv.shape[0]\n",
    "preds_distrib = 100 * pd.concat([preds_csv[\"source_id\"].value_counts() / num_sample, train_data[TARGET].value_counts() / num_sample], axis=1)\n",
    "preds_distrib.columns = [\"predicted_distribution\", \"train_set_distribution\"]\n",
    "\n",
    "preds_distrib.style.format(\"{:.1f}%\").background_gradient(cmap=cm, axis=0)"
   ]
  },
  {
   "cell_type": "code",
   "execution_count": null,
   "metadata": {},
   "outputs": [],
   "source": []
  }
 ],
 "metadata": {
  "kernelspec": {
   "display_name": "Python 3",
   "language": "python",
   "name": "python3"
  },
  "language_info": {
   "codemirror_mode": {
    "name": "ipython",
    "version": 3
   },
   "file_extension": ".py",
   "mimetype": "text/x-python",
   "name": "python",
   "nbconvert_exporter": "python",
   "pygments_lexer": "ipython3",
   "version": "3.8.3"
  },
  "toc": {
   "base_numbering": 1,
   "nav_menu": {},
   "number_sections": true,
   "sideBar": true,
   "skip_h1_title": false,
   "title_cell": "Table of Contents",
   "title_sidebar": "Contents",
   "toc_cell": false,
   "toc_position": {},
   "toc_section_display": true,
   "toc_window_display": false
  }
 },
 "nbformat": 4,
 "nbformat_minor": 4
}
